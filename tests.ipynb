{
 "cells": [
  {
   "cell_type": "code",
   "execution_count": 1,
   "id": "ae9f0cd8-4c64-4f3d-ad85-fc24df8d1e7b",
   "metadata": {},
   "outputs": [
    {
     "name": "stdout",
     "output_type": "stream",
     "text": [
      "[0, 1, 2, 3, 4, 5, 6, 7, 8, 9, 10, 11, 12, 13]\n"
     ]
    }
   ],
   "source": [
    "from five_one_one_bplus import BPlusSet\n",
    "\n",
    "s = BPlusSet()\n",
    "\n",
    "nums_to_add = list(range(14))\n",
    "print(nums_to_add)\n",
    "\n",
    "for n in nums_to_add:\n",
    "    s.add(n)"
   ]
  },
  {
   "cell_type": "code",
   "execution_count": 2,
   "id": "1c482b7e-ef05-48e1-a1bd-8951037d9e56",
   "metadata": {},
   "outputs": [
    {
     "data": {
      "text/plain": [
       "14"
      ]
     },
     "execution_count": 2,
     "metadata": {},
     "output_type": "execute_result"
    }
   ],
   "source": [
    "len(s)"
   ]
  },
  {
   "cell_type": "code",
   "execution_count": 3,
   "id": "d0781196-fda4-47a2-8970-352dfe1aae4b",
   "metadata": {},
   "outputs": [],
   "source": [
    "for n in nums_to_add:\n",
    "    assert n in s"
   ]
  },
  {
   "cell_type": "code",
   "execution_count": 4,
   "id": "f79d6364-38e0-4d40-abe1-79d6552e4cda",
   "metadata": {},
   "outputs": [
    {
     "data": {
      "text/plain": [
       "False"
      ]
     },
     "execution_count": 4,
     "metadata": {},
     "output_type": "execute_result"
    }
   ],
   "source": [
    "15 in s"
   ]
  },
  {
   "cell_type": "code",
   "execution_count": 5,
   "id": "4c5db1f3-85e2-4c75-afd9-4c81d2721d14",
   "metadata": {},
   "outputs": [
    {
     "data": {
      "text/plain": [
       "False"
      ]
     },
     "execution_count": 5,
     "metadata": {},
     "output_type": "execute_result"
    }
   ],
   "source": [
    "-1 in s"
   ]
  },
  {
   "cell_type": "code",
   "execution_count": 6,
   "id": "a2eab637-5906-46ea-a4f5-25e4825d8446",
   "metadata": {},
   "outputs": [
    {
     "data": {
      "text/plain": [
       "14"
      ]
     },
     "execution_count": 6,
     "metadata": {},
     "output_type": "execute_result"
    }
   ],
   "source": [
    "for n in nums_to_add:\n",
    "    s.add(n)\n",
    "len(s)"
   ]
  },
  {
   "cell_type": "code",
   "execution_count": 7,
   "id": "15cb2aed-fa81-4dd1-9f84-d9c5c66c7897",
   "metadata": {},
   "outputs": [
    {
     "data": {
      "text/plain": [
       "28"
      ]
     },
     "execution_count": 7,
     "metadata": {},
     "output_type": "execute_result"
    }
   ],
   "source": [
    "for n in range(14, 28):\n",
    "    s.add(n)\n",
    "len(s)"
   ]
  },
  {
   "cell_type": "code",
   "execution_count": 8,
   "id": "6c007599-4711-4c53-a6df-fc312bb07c3d",
   "metadata": {},
   "outputs": [],
   "source": [
    "for n in range(0, 28):\n",
    "    assert n in s"
   ]
  },
  {
   "cell_type": "code",
   "execution_count": 9,
   "id": "42dd5516-b599-4ede-8ca0-53a85143203b",
   "metadata": {},
   "outputs": [
    {
     "data": {
      "text/plain": [
       "False"
      ]
     },
     "execution_count": 9,
     "metadata": {},
     "output_type": "execute_result"
    }
   ],
   "source": [
    "-1 in s"
   ]
  },
  {
   "cell_type": "code",
   "execution_count": 10,
   "id": "4f7cbc03-a120-4485-93ac-0bfeba2b9bb8",
   "metadata": {},
   "outputs": [
    {
     "data": {
      "text/plain": [
       "False"
      ]
     },
     "execution_count": 10,
     "metadata": {},
     "output_type": "execute_result"
    }
   ],
   "source": [
    "28 in s"
   ]
  },
  {
   "cell_type": "code",
   "execution_count": 11,
   "id": "7da4e5e1-9a8b-41eb-873e-4d1f461c2cf0",
   "metadata": {},
   "outputs": [],
   "source": [
    "for n in range(0, 128):\n",
    "    s.add(n)"
   ]
  },
  {
   "cell_type": "code",
   "execution_count": 12,
   "id": "8abe5cda-15f1-4f84-8cbb-cb3579aaef41",
   "metadata": {},
   "outputs": [],
   "source": [
    "for n in range(0, 128):\n",
    "    assert n in s"
   ]
  },
  {
   "cell_type": "code",
   "execution_count": 13,
   "id": "dde01eb4-5b68-4425-86c4-ea1997c36aa2",
   "metadata": {},
   "outputs": [],
   "source": [
    "for n in range(128, 256):\n",
    "    assert n not in s"
   ]
  },
  {
   "cell_type": "code",
   "execution_count": 14,
   "id": "261ada5c-0317-4184-8099-522a22e3d610",
   "metadata": {},
   "outputs": [],
   "source": [
    "s = BPlusSet()\n",
    "\n",
    "for n in range(256, 0, -1):\n",
    "    s.add(n)\n",
    "\n",
    "for n in range(1, 257):\n",
    "    assert n in s"
   ]
  },
  {
   "cell_type": "code",
   "execution_count": null,
   "id": "dd6e4fca-b888-4eb6-baa7-340497d83d20",
   "metadata": {},
   "outputs": [],
   "source": []
  },
  {
   "cell_type": "code",
   "execution_count": 15,
   "id": "36e25d78-6996-48a8-8418-6a83406eb86b",
   "metadata": {},
   "outputs": [],
   "source": [
    "import timeit\n",
    "import random"
   ]
  },
  {
   "cell_type": "code",
   "execution_count": 16,
   "id": "07abe7d4-5186-43f8-8a85-035698e45ad7",
   "metadata": {},
   "outputs": [
    {
     "data": {
      "text/plain": [
       "'BAIIK'"
      ]
     },
     "execution_count": 16,
     "metadata": {},
     "output_type": "execute_result"
    }
   ],
   "source": [
    "def randostr():\n",
    "    return \"\".join(chr(random.randint(ord(\"A\"), ord(\"Z\"))) for _ in range(5))\n",
    "\n",
    "randostr()"
   ]
  },
  {
   "cell_type": "code",
   "execution_count": 18,
   "id": "522ccb12-dd4d-4b9a-bc16-2f2293470982",
   "metadata": {},
   "outputs": [],
   "source": [
    "s = BPlusSet()\n",
    "\n",
    "for _ in range(14):\n",
    "    s.add(randostr())"
   ]
  },
  {
   "cell_type": "code",
   "execution_count": 19,
   "id": "16647b73-154a-42e0-8d24-818122293835",
   "metadata": {},
   "outputs": [
    {
     "data": {
      "text/plain": [
       "(914767, 684645, 587260, 7293, 733986)"
      ]
     },
     "execution_count": 19,
     "metadata": {},
     "output_type": "execute_result"
    }
   ],
   "source": [
    "s = BPlusSet()\n",
    "\n",
    "def randotuple():\n",
    "    return tuple(random.randint(0, 1_000_000) for _ in range(5))\n",
    "\n",
    "randotuple()"
   ]
  },
  {
   "cell_type": "code",
   "execution_count": 27,
   "id": "69482c41-37f8-432c-a589-3234c1dd7caf",
   "metadata": {},
   "outputs": [
    {
     "name": "stdout",
     "output_type": "stream",
     "text": [
      "(55277, 689841, 134323, 826699, 343292)\n",
      "8\n"
     ]
    }
   ],
   "source": [
    "x = randotuple()\n",
    "\n",
    "print(x)\n",
    "\n",
    "s.add(x)\n",
    "\n",
    "print(len(s))"
   ]
  },
  {
   "cell_type": "code",
   "execution_count": 28,
   "id": "92db3b83-717a-48ef-b43f-21a07b31dad1",
   "metadata": {},
   "outputs": [],
   "source": [
    "t = (55277, 689841, 134323, 826699, 343292)\n",
    "\n",
    "th = hash(t)"
   ]
  },
  {
   "cell_type": "code",
   "execution_count": 29,
   "id": "5eb00a00-bd5f-4058-83ca-d8253cfd26cf",
   "metadata": {},
   "outputs": [
    {
     "data": {
      "text/plain": [
       "3024544787145839862"
      ]
     },
     "execution_count": 29,
     "metadata": {},
     "output_type": "execute_result"
    }
   ],
   "source": [
    "th"
   ]
  },
  {
   "cell_type": "code",
   "execution_count": 30,
   "id": "47c77f87-770d-4fda-8f8e-edd6a0bf9a0f",
   "metadata": {},
   "outputs": [
    {
     "data": {
      "text/plain": [
       "718701777932145911"
      ]
     },
     "execution_count": 30,
     "metadata": {},
     "output_type": "execute_result"
    }
   ],
   "source": [
    "hash(3024544787145839862)"
   ]
  },
  {
   "cell_type": "code",
   "execution_count": null,
   "id": "6cfc40ff-63cf-40f4-9f20-169be81c74d8",
   "metadata": {},
   "outputs": [],
   "source": []
  }
 ],
 "metadata": {
  "kernelspec": {
   "display_name": "python3.10",
   "language": "python",
   "name": "python3.10"
  },
  "language_info": {
   "codemirror_mode": {
    "name": "ipython",
    "version": 3
   },
   "file_extension": ".py",
   "mimetype": "text/x-python",
   "name": "python",
   "nbconvert_exporter": "python",
   "pygments_lexer": "ipython3",
   "version": "3.10.2"
  }
 },
 "nbformat": 4,
 "nbformat_minor": 5
}
