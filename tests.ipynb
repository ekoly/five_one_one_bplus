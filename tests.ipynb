{
 "cells": [
  {
   "cell_type": "code",
   "execution_count": 3,
   "id": "36e25d78-6996-48a8-8418-6a83406eb86b",
   "metadata": {},
   "outputs": [],
   "source": [
    "import timeit\n",
    "import random"
   ]
  },
  {
   "cell_type": "code",
   "execution_count": 25,
   "id": "07abe7d4-5186-43f8-8a85-035698e45ad7",
   "metadata": {},
   "outputs": [
    {
     "data": {
      "text/plain": [
       "'BPRKVQMQCJISWUDPOJIYUQYMJNTPCQHE'"
      ]
     },
     "execution_count": 25,
     "metadata": {},
     "output_type": "execute_result"
    }
   ],
   "source": [
    "def randostr():\n",
    "    return \"\".join(chr(random.randint(ord(\"A\"), ord(\"Z\"))) for _ in range(32))\n",
    "\n",
    "randostr()"
   ]
  },
  {
   "cell_type": "code",
   "execution_count": 26,
   "id": "57ca130f-9b1c-413a-a82b-333b34ab65b9",
   "metadata": {},
   "outputs": [],
   "source": [
    "from five_one_one_bplus import BPlusSet\n",
    "\n",
    "s = BPlusSet()\n",
    "h_to_o = {}\n",
    "\n",
    "for _ in range(511):\n",
    "    rs = randostr()\n",
    "    h_to_o[hash(rs)] = rs\n",
    "    s.add(rs)\n",
    "\n",
    "for v in h_to_o.values():\n",
    "    assert v in s"
   ]
  },
  {
   "cell_type": "code",
   "execution_count": 27,
   "id": "dc3c1016-c70e-4a32-bfc6-ba97f8885b1f",
   "metadata": {},
   "outputs": [],
   "source": [
    "def f1(num_items, b):\n",
    "    \n",
    "    s = BPlusSet(b=b)\n",
    "    \n",
    "    for _ in range(num_items):\n",
    "        rs = randostr()\n",
    "        s.add(rs)\n",
    "\n",
    "def f2():\n",
    "    \n",
    "    s = set()\n",
    "    values = []\n",
    "    \n",
    "    for _ in range(127):\n",
    "        rs = randostr()\n",
    "        values.append(rs)\n",
    "        s.add(rs)\n",
    "\n",
    "    for v in values:\n",
    "        assert v in s"
   ]
  },
  {
   "cell_type": "code",
   "execution_count": 28,
   "id": "12ae35a1-606d-44e2-b49a-8abfef2508f0",
   "metadata": {},
   "outputs": [
    {
     "data": {
      "text/plain": [
       "3.097010733996285"
      ]
     },
     "execution_count": 28,
     "metadata": {},
     "output_type": "execute_result"
    }
   ],
   "source": [
    "timeit.timeit(\"f1(127, 8)\", setup=\"from __main__ import f1, BPlusSet\", number=1000)"
   ]
  },
  {
   "cell_type": "code",
   "execution_count": 29,
   "id": "4ce8dd01-63dc-4fea-aa30-a82d488c3733",
   "metadata": {},
   "outputs": [
    {
     "data": {
      "text/plain": [
       "2.775346533017"
      ]
     },
     "execution_count": 29,
     "metadata": {},
     "output_type": "execute_result"
    }
   ],
   "source": [
    "timeit.timeit(\"f2()\", setup=\"from __main__ import f2\", number=1000)"
   ]
  },
  {
   "cell_type": "code",
   "execution_count": 32,
   "id": "3b05488c-f634-4b21-b036-3fb434a77e9a",
   "metadata": {},
   "outputs": [],
   "source": [
    "results = []\n",
    "\n",
    "for num_items in [10, 50, 100, 500, 1000, 2500, 5000]:\n",
    "    sub_results_x = []\n",
    "    sub_results_y = []\n",
    "    for b in range(2, 33, 2):\n",
    "        t = timeit.timeit(f\"f1({num_items}, {b})\", setup=\"from __main__ import f1, BPlusSet\", number=256)\n",
    "        sub_results_x.append(b)\n",
    "        sub_results_y.append(t)\n",
    "    results.append((sub_results_x, sub_results_y, f\"{num_items} items\"))    "
   ]
  },
  {
   "cell_type": "code",
   "execution_count": 33,
   "id": "dede26e4-b1f5-4bd7-b2f4-39c21ea85e3f",
   "metadata": {},
   "outputs": [
    {
     "data": {
      "image/png": "[encoded data removed]",
      "text/plain": [
       "<Figure size 432x288 with 1 Axes>"
      ]
     },
     "metadata": {
      "needs_background": "light"
     },
     "output_type": "display_data"
    }
   ],
   "source": [
    "import matplotlib.pyplot as plt\n",
    "\n",
    "for x, y, label in results:\n",
    "    plt.plot(x, y, label=label)\n",
    "\n",
    "plt.xlabel(\"B\")\n",
    "plt.ylabel(\"Time (s) per 256 tests\")\n",
    "plt.legend()\n",
    "\n",
    "plt.show()"
   ]
  },
  {
   "cell_type": "code",
   "execution_count": 34,
   "id": "91605f4d-ebd9-4203-9a28-3b5702af90dc",
   "metadata": {},
   "outputs": [],
   "source": [
    "def f2(num_items, b):\n",
    "    \n",
    "    s = BPlusSet(b=b)\n",
    "    values = []\n",
    "    \n",
    "    for _ in range(num_items):\n",
    "        rs = randostr()\n",
    "        values.append(rs)\n",
    "        s.add(rs)\n",
    "    \n",
    "    for _ in range(10_000):\n",
    "        for v in values:\n",
    "            assert v in s\n",
    "        for _ in range(len(values)):\n",
    "            assert randostr() not in s\n"
   ]
  },
  {
   "cell_type": "code",
   "execution_count": null,
   "id": "22aefaa0-ea9f-46ad-94a7-9e7882a542b3",
   "metadata": {},
   "outputs": [],
   "source": [
    "results = []\n",
    "\n",
    "for num_items in [10, 50, 100, 500, 1000, 2500, 5000]:\n",
    "    sub_results_x = []\n",
    "    sub_results_y = []\n",
    "    for b in range(2, 33, 2):\n",
    "        t = timeit.timeit(f\"f2({num_items}, {b})\", setup=\"from __main__ import f2\", number=256)\n",
    "        sub_results_x.append(b)\n",
    "        sub_results_y.append(t)\n",
    "    results.append((sub_results_x, sub_results_y, f\"{num_items} items\"))"
   ]
  },
  {
   "cell_type": "code",
   "execution_count": null,
   "id": "cb139146-2068-4e98-9e95-2edfd7d208aa",
   "metadata": {},
   "outputs": [],
   "source": [
    "for x, y, label in results:\n",
    "    plt.plot(x, y, label=label)\n",
    "\n",
    "plt.xlabel(\"B\")\n",
    "plt.ylabel(\"Time (s) per 256 tests\")\n",
    "plt.legend()\n",
    "\n",
    "plt.show()"
   ]
  },
  {
   "cell_type": "code",
   "execution_count": null,
   "id": "c3e30200-b542-4947-90a6-dba807e97be7",
   "metadata": {},
   "outputs": [],
   "source": []
  }
 ],
 "metadata": {
  "kernelspec": {
   "display_name": "python3.10",
   "language": "python",
   "name": "python3.10"
  },
  "language_info": {
   "codemirror_mode": {
    "name": "ipython",
    "version": 3
   },
   "file_extension": ".py",
   "mimetype": "text/x-python",
   "name": "python",
   "nbconvert_exporter": "python",
   "pygments_lexer": "ipython3",
   "version": "3.10.2"
  }
 },
 "nbformat": 4,
 "nbformat_minor": 5
}
